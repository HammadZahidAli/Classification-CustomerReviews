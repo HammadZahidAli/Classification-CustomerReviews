{
 "cells": [
  {
   "cell_type": "code",
   "execution_count": 1,
   "metadata": {
    "collapsed": true
   },
   "outputs": [],
   "source": [
    "import pandas as pd\n",
    "from textblob import TextBlob\n",
    "\n",
    "# https://github.com/llSourcell/twitter_sentiment_challenge/blob/master/demo.py\n",
    "# Code Guide: https://github.com/HackerEarth-Challenges/Happiness-ML-Challenge/blob/master/LGB_CB_Python.ipynb\n",
    "# Guide: https://en.wikipedia.org/wiki/Evaluation_of_binary_classifiers"
   ]
  },
  {
   "cell_type": "code",
   "execution_count": 2,
   "metadata": {
    "collapsed": false
   },
   "outputs": [
    {
     "name": "stdout",
     "output_type": "stream",
     "text": [
      "   User_ID                                        Description       Browser_Used Device_Used Is_Response\n",
      "0  id10326  The room was kind of clean but had a VERY stro...               Edge      Mobile   not happy\n",
      "1  id10327  I stayed at the Crown Plaza April -- - April -...  Internet Explorer      Mobile   not happy\n",
      "2  id10328  I booked this hotel through Hotwire at the low...            Mozilla      Tablet   not happy\n",
      "3  id10329  Stayed here with husband and sons on the way t...   InternetExplorer     Desktop       happy\n",
      "4  id10330  My girlfriends and I stayed here to celebrate ...               Edge      Tablet   not happy\n"
     ]
    }
   ],
   "source": [
    "pd.set_option('display.max_rows', 500)\n",
    "pd.set_option('display.max_columns', 500)\n",
    "pd.set_option('display.width', 300)\n",
    "\n",
    "data = pd.read_csv('train.csv')\n",
    "print(data.head(5))"
   ]
  },
  {
   "cell_type": "code",
   "execution_count": 3,
   "metadata": {
    "collapsed": false,
    "scrolled": true
   },
   "outputs": [
    {
     "name": "stdout",
     "output_type": "stream",
     "text": [
      "        User_ID                                        Description Browser_Used Device_Used Is_Response\n",
      "count     38932                                              38932        38932       38932       38932\n",
      "unique    38932                                              38932           11           3           2\n",
      "top     id35888  We live in PA and often spend weekends in NYC....      Firefox     Desktop       happy\n",
      "freq          1                                                  1         7367       15026       26521\n"
     ]
    }
   ],
   "source": [
    "print(data.describe())\n",
    "\n"
   ]
  },
  {
   "cell_type": "code",
   "execution_count": null,
   "metadata": {
    "collapsed": false
   },
   "outputs": [],
   "source": [
    "import numpy as np\n",
    "desc = np.array(data.iloc[:,1])\n",
    "review = []\n",
    "for i,d in enumerate(desc):\n",
    "    if(i<38932):\n",
    "        analysis = TextBlob(d)\n",
    "        if(analysis.sentiment.polarity<0.5):\n",
    "            #print('Bad Review')\n",
    "            review.append(-1);\n",
    "        else:\n",
    "            #print('Positive Review')\n",
    "            review.append(1);\n",
    "            \n",
    "\n",
    "data['Description_Num'] = review"
   ]
  },
  {
   "cell_type": "code",
   "execution_count": null,
   "metadata": {
    "collapsed": false
   },
   "outputs": [],
   "source": [
    "print( data.loc[:10,['Description','Description_Num']] )\n",
    "\n",
    "print( data.loc[3100:3110,['Description','Description_Num']] )"
   ]
  },
  {
   "cell_type": "code",
   "execution_count": null,
   "metadata": {
    "collapsed": false
   },
   "outputs": [],
   "source": [
    "print( data['Is_Response'].unique() )\n",
    "print(data.head(4))"
   ]
  },
  {
   "cell_type": "code",
   "execution_count": null,
   "metadata": {
    "collapsed": false
   },
   "outputs": [],
   "source": [
    "y = data.iloc[:,4]\n",
    "print('',type(y),len(y))\n",
    "\n",
    "# from sklearn import preprocessing\n",
    "# le = preprocessing.LabelEncoder()\n",
    "# le.fit(y)\n",
    "# y=le.transform(y)\n",
    "\n",
    "ny=[]\n",
    "for a in y:\n",
    "    print(a)\n",
    "    if(a == 'not happy'):\n",
    "        ny.append(0)\n",
    "#        print(a)\n",
    "    elif(a == 'happy'):\n",
    "        ny.append(1)\n",
    "#        print(a)\n",
    "        \n",
    "    \n",
    "\n",
    "#print('going')\n",
    "# new col\n",
    "data['Is_Response_Num'] = ny\n",
    "\n",
    "#print('Classes:',le.classes_)\n",
    "#print('Response variable after encoding:',ny)\n",
    "data.tail(5)"
   ]
  },
  {
   "cell_type": "code",
   "execution_count": null,
   "metadata": {
    "collapsed": false
   },
   "outputs": [],
   "source": [
    "len ( data.loc[data['Description_Num']==-1,['Device_Used']] )"
   ]
  },
  {
   "cell_type": "code",
   "execution_count": null,
   "metadata": {
    "collapsed": false
   },
   "outputs": [],
   "source": [
    "yB = data['Browser_Used']\n",
    "\n",
    "from sklearn import preprocessing\n",
    "le = preprocessing.LabelEncoder()\n",
    "le.fit(yB)\n",
    "yB=le.transform(yB)\n",
    "\n",
    "# new col\n",
    "data['Browser_Used_Num'] = yB\n",
    "\n",
    "print('Classes:',le.classes_)\n",
    "print('Response variable after encoding:',yB)\n",
    "data.tail(10)"
   ]
  },
  {
   "cell_type": "code",
   "execution_count": null,
   "metadata": {
    "collapsed": false
   },
   "outputs": [],
   "source": [
    "yD = data['Device_Used']\n",
    "\n",
    "from sklearn import preprocessing\n",
    "le = preprocessing.LabelEncoder()\n",
    "le.fit(yD)\n",
    "yD=le.transform(yD)\n",
    "\n",
    "# new col\n",
    "data['Device_Used_Num'] = yD\n",
    "\n",
    "print('Classes:',le.classes_)\n",
    "print('Response variable after encoding:',yD)\n",
    "data.tail(2)"
   ]
  },
  {
   "cell_type": "code",
   "execution_count": null,
   "metadata": {
    "collapsed": false
   },
   "outputs": [],
   "source": [
    "X = data.iloc[:,[5,7,8]]\n",
    "y = data.iloc[:,6]\n",
    "\n",
    "\n",
    "# test = pd.read_csv('test.csv')\n",
    "\n",
    "\n",
    "\n",
    "# import numpy as np\n",
    "# desc = np.array(data.iloc[:,1])\n",
    "# review = []\n",
    "# for i,d in enumerate(desc):\n",
    "#     if(i<test.shape[0]):\n",
    "#         analysis = TextBlob(d)\n",
    "#         if(analysis.sentiment.polarity<0):\n",
    "#             #print('Bad Review')\n",
    "#             review.append(-1);\n",
    "#         elif(analysis.sentiment.polarity == 0):\n",
    "#             #print('No Review')\n",
    "#             review.append(0);\n",
    "#         else:\n",
    "#             #print('Positive Review')\n",
    "#             review.append(1);\n",
    "            \n",
    "\n",
    "# test['Review'] = review\n",
    "\n",
    "# test.head(5)\n",
    "\n",
    "from sklearn.cross_validation import train_test_split\n",
    "X_train, X_test, y_train, y_test = train_test_split(X, y, test_size = 0.25, random_state = 0)"
   ]
  },
  {
   "cell_type": "code",
   "execution_count": null,
   "metadata": {
    "collapsed": false
   },
   "outputs": [],
   "source": [
    "# yD = test['Device_Used']\n",
    "\n",
    "# from sklearn import preprocessing\n",
    "# le = preprocessing.LabelEncoder()\n",
    "# le.fit(yD)\n",
    "# yD=le.transform(yD)\n",
    "\n",
    "# # new col\n",
    "# test['Device_Used_Num'] = yD\n",
    "\n",
    "# print('Classes:',le.classes_)\n",
    "# print('Response variable after encoding:',yD)\n",
    "# test.tail(2)"
   ]
  },
  {
   "cell_type": "code",
   "execution_count": null,
   "metadata": {
    "collapsed": false
   },
   "outputs": [],
   "source": [
    "# yB = test['Browser_Used']\n",
    "\n",
    "# from sklearn import preprocessing\n",
    "# le = preprocessing.LabelEncoder()\n",
    "# le.fit(yB)\n",
    "# yB=le.transform(yB)\n",
    "\n",
    "# # new col\n",
    "# test['Browser_Used_Num'] = yB\n",
    "\n",
    "# print('Classes:',le.classes_)\n",
    "# print('Response variable after encoding:',yB)\n",
    "# test.tail(4)"
   ]
  },
  {
   "cell_type": "code",
   "execution_count": null,
   "metadata": {
    "collapsed": false
   },
   "outputs": [],
   "source": [
    "\n",
    "# X_test = test.iloc[:,[4,5,6]]"
   ]
  },
  {
   "cell_type": "code",
   "execution_count": null,
   "metadata": {
    "collapsed": false
   },
   "outputs": [],
   "source": [
    "# Feature Scaling\n",
    "from sklearn.preprocessing import StandardScaler\n",
    "sc = StandardScaler()\n",
    "X_train = sc.fit_transform(X_train)\n",
    "X_test = sc.transform(X_test)\n",
    "\n",
    "# Fitting SVM to the Training set\n",
    "from sklearn.svm import SVC\n",
    "classifier = SVC(kernel = 'linear', random_state = 0)\n",
    "classifier.fit(X_train, y_train)\n",
    "\n",
    "# Predicting the Test set results\n",
    "y_pred = classifier.predict(X_test)\n",
    "\n",
    "# Making the Confusion Matrix\n",
    "from sklearn.metrics import confusion_matrix\n",
    "cm = confusion_matrix(y_test, y_pred)\n",
    "\n",
    "print(cm)\n",
    "\n",
    "\n",
    "from sklearn.metrics import accuracy_score\n",
    "acc = accuracy_score(y_test, y_pred)\n",
    "\n",
    "print(acc)\n"
   ]
  },
  {
   "cell_type": "code",
   "execution_count": null,
   "metadata": {
    "collapsed": false
   },
   "outputs": [],
   "source": [
    "# Feature Scaling\n",
    "from sklearn.preprocessing import StandardScaler\n",
    "sc = StandardScaler()\n",
    "X_train = sc.fit_transform(X_train)\n",
    "X_test = sc.transform(X_test)\n",
    "\n",
    "# Fitting Naive Bayes to the Training set\n",
    "from sklearn.naive_bayes import GaussianNB\n",
    "classifier = GaussianNB()\n",
    "classifier.fit(X_train, y_train)\n",
    "\n",
    "# Predicting the Test set results\n",
    "y_pred = classifier.predict(X_test)\n",
    "\n",
    "# Making the Confusion Matrix\n",
    "from sklearn.metrics import confusion_matrix\n",
    "cm = confusion_matrix(y_test, y_pred)\n",
    "print(cm)\n",
    "\n",
    "from sklearn.metrics import accuracy_score\n",
    "acc = accuracy_score(y_test, y_pred)\n",
    "\n",
    "print(acc)\n"
   ]
  },
  {
   "cell_type": "code",
   "execution_count": null,
   "metadata": {
    "collapsed": false
   },
   "outputs": [],
   "source": [
    "\n",
    "test = pd.read_csv('test.csv')\n",
    "\n",
    "\n",
    "\n",
    "import numpy as np\n",
    "desc = np.array(data.iloc[:,1])\n",
    "review = []\n",
    "for i,d in enumerate(desc):\n",
    "    if(i<test.shape[0]):\n",
    "        analysis = TextBlob(d)\n",
    "        if(analysis.sentiment.polarity<0):\n",
    "            #print('Bad Review')\n",
    "            review.append(-1);\n",
    "        elif(analysis.sentiment.polarity == 0):\n",
    "            #print('No Review')\n",
    "            review.append(0);\n",
    "        else:\n",
    "            #print('Positive Review')\n",
    "            review.append(1);\n",
    "            \n",
    "\n",
    "test['Review'] = review\n",
    "\n",
    "test.head(5)\n",
    "\n",
    "X_test = test.iloc[:,4]"
   ]
  },
  {
   "cell_type": "code",
   "execution_count": null,
   "metadata": {
    "collapsed": false
   },
   "outputs": [],
   "source": [
    "# Feature Scaling\n",
    "from sklearn.preprocessing import StandardScaler\n",
    "sc = StandardScaler()\n",
    "X_train = sc.fit_transform(X_train)\n",
    "X_test = sc.transform(X_test)\n",
    "\n",
    "# Fitting Naive Bayes to the Training set\n",
    "from sklearn.naive_bayes import GaussianNB\n",
    "classifier = GaussianNB()\n",
    "classifier.fit(X_train, y_train)\n",
    "\n",
    "# Predicting the Test set results\n",
    "y_pred = classifier.predict(X_test)\n",
    "\n",
    "\n",
    "y_pred[0:10]"
   ]
  },
  {
   "cell_type": "code",
   "execution_count": 4,
   "metadata": {
    "collapsed": false
   },
   "outputs": [
    {
     "data": {
      "text/html": [
       "<div>\n",
       "<table border=\"1\" class=\"dataframe\">\n",
       "  <thead>\n",
       "    <tr style=\"text-align: right;\">\n",
       "      <th></th>\n",
       "      <th>User_ID</th>\n",
       "      <th>Description</th>\n",
       "      <th>Browser_Used</th>\n",
       "      <th>Device_Used</th>\n",
       "      <th>Is_Response</th>\n",
       "      <th>pair</th>\n",
       "    </tr>\n",
       "  </thead>\n",
       "  <tbody>\n",
       "    <tr>\n",
       "      <th>0</th>\n",
       "      <td>id10326</td>\n",
       "      <td>The room was kind of clean but had a VERY stro...</td>\n",
       "      <td>Edge</td>\n",
       "      <td>Mobile</td>\n",
       "      <td>not happy</td>\n",
       "      <td>(The room was kind of clean but had a VERY str...</td>\n",
       "    </tr>\n",
       "    <tr>\n",
       "      <th>1</th>\n",
       "      <td>id10327</td>\n",
       "      <td>I stayed at the Crown Plaza April -- - April -...</td>\n",
       "      <td>Internet Explorer</td>\n",
       "      <td>Mobile</td>\n",
       "      <td>not happy</td>\n",
       "      <td>(I stayed at the Crown Plaza April -- - April ...</td>\n",
       "    </tr>\n",
       "    <tr>\n",
       "      <th>2</th>\n",
       "      <td>id10328</td>\n",
       "      <td>I booked this hotel through Hotwire at the low...</td>\n",
       "      <td>Mozilla</td>\n",
       "      <td>Tablet</td>\n",
       "      <td>not happy</td>\n",
       "      <td>(I booked this hotel through Hotwire at the lo...</td>\n",
       "    </tr>\n",
       "    <tr>\n",
       "      <th>3</th>\n",
       "      <td>id10329</td>\n",
       "      <td>Stayed here with husband and sons on the way t...</td>\n",
       "      <td>InternetExplorer</td>\n",
       "      <td>Desktop</td>\n",
       "      <td>happy</td>\n",
       "      <td>(Stayed here with husband and sons on the way ...</td>\n",
       "    </tr>\n",
       "    <tr>\n",
       "      <th>4</th>\n",
       "      <td>id10330</td>\n",
       "      <td>My girlfriends and I stayed here to celebrate ...</td>\n",
       "      <td>Edge</td>\n",
       "      <td>Tablet</td>\n",
       "      <td>not happy</td>\n",
       "      <td>(My girlfriends and I stayed here to celebrate...</td>\n",
       "    </tr>\n",
       "  </tbody>\n",
       "</table>\n",
       "</div>"
      ],
      "text/plain": [
       "   User_ID                                        Description       Browser_Used Device_Used Is_Response                                               pair\n",
       "0  id10326  The room was kind of clean but had a VERY stro...               Edge      Mobile   not happy  (The room was kind of clean but had a VERY str...\n",
       "1  id10327  I stayed at the Crown Plaza April -- - April -...  Internet Explorer      Mobile   not happy  (I stayed at the Crown Plaza April -- - April ...\n",
       "2  id10328  I booked this hotel through Hotwire at the low...            Mozilla      Tablet   not happy  (I booked this hotel through Hotwire at the lo...\n",
       "3  id10329  Stayed here with husband and sons on the way t...   InternetExplorer     Desktop       happy  (Stayed here with husband and sons on the way ...\n",
       "4  id10330  My girlfriends and I stayed here to celebrate ...               Edge      Tablet   not happy  (My girlfriends and I stayed here to celebrate..."
      ]
     },
     "execution_count": 4,
     "metadata": {},
     "output_type": "execute_result"
    }
   ],
   "source": [
    "data['pair'] = list(zip(data['Description'], data['Is_Response']))\n",
    "\n",
    "# ll = data.iloc[0:10000,5]\n",
    "\n",
    "# ll\n",
    "\n",
    "data.head(5)"
   ]
  },
  {
   "cell_type": "code",
   "execution_count": null,
   "metadata": {
    "collapsed": false
   },
   "outputs": [],
   "source": [
    "from textblob.classifiers import NaiveBayesClassifier\n",
    "\n",
    "cl = NaiveBayesClassifier(data['pair'])"
   ]
  },
  {
   "cell_type": "code",
   "execution_count": null,
   "metadata": {
    "collapsed": false
   },
   "outputs": [],
   "source": [
    "print(cl.classify(\"Their burgers are amazing\") ) # \"pos\"\n",
    "print(cl.classify(\"I don't like their pizza.\") )  # \"neg\""
   ]
  },
  {
   "cell_type": "code",
   "execution_count": null,
   "metadata": {
    "collapsed": true
   },
   "outputs": [],
   "source": []
  }
 ],
 "metadata": {
  "kernelspec": {
   "display_name": "Python 3",
   "language": "python",
   "name": "python3"
  },
  "language_info": {
   "codemirror_mode": {
    "name": "ipython",
    "version": 3
   },
   "file_extension": ".py",
   "mimetype": "text/x-python",
   "name": "python",
   "nbconvert_exporter": "python",
   "pygments_lexer": "ipython3",
   "version": "3.6.0"
  }
 },
 "nbformat": 4,
 "nbformat_minor": 2
}
